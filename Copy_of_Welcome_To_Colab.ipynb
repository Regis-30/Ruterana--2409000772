{
  "cells": [
    {
      "cell_type": "markdown",
      "metadata": {
        "id": "view-in-github",
        "colab_type": "text"
      },
      "source": [
        "<a href=\"https://colab.research.google.com/github/Regis-30/Ruterana--2409000772/blob/main/Copy_of_Welcome_To_Colab.ipynb\" target=\"_parent\"><img src=\"https://colab.research.google.com/assets/colab-badge.svg\" alt=\"Open In Colab\"/></a>"
      ]
    },
    {
      "cell_type": "code",
      "source": [
        "!pip install cryptography"
      ],
      "metadata": {
        "id": "OjJZ9JxnCcPX",
        "outputId": "b273b3cb-aa0a-4cc3-9ed9-9572729359c6",
        "colab": {
          "base_uri": "https://localhost:8080/"
        }
      },
      "execution_count": null,
      "outputs": [
        {
          "output_type": "stream",
          "name": "stdout",
          "text": [
            "Requirement already satisfied: cryptography in /usr/local/lib/python3.11/dist-packages (43.0.3)\n",
            "Requirement already satisfied: cffi>=1.12 in /usr/local/lib/python3.11/dist-packages (from cryptography) (1.17.1)\n",
            "Requirement already satisfied: pycparser in /usr/local/lib/python3.11/dist-packages (from cffi>=1.12->cryptography) (2.22)\n"
          ]
        }
      ]
    },
    {
      "cell_type": "code",
      "source": [
        "file1 = \"history is the systematic study of the past \"\n",
        "file2 = \"history id the systematic study of the past this is just for pratice\"\n",
        "\n",
        "def jaccard_similarity(text1, text2):\n",
        "    \"\"\"\n",
        "    Calculates the Jaccard similarity between two text strings.\n",
        "\n",
        "    Args:\n",
        "        text1 (str): The first text string.\n",
        "        text2 (str): The second text string.\n",
        "\n",
        "    Returns:\n",
        "        tuple: A tuple containing the similarity score (float) and the set of common words.\n",
        "    \"\"\"\n",
        "\n",
        "    set1 = set(text1.split())\n",
        "    set2 = set(text2.split())\n",
        "\n",
        "    intersection = set1.intersection(set2)\n",
        "    union = set1.union(set2)\n",
        "\n",
        "    similarity = len(intersection) / len(union)\n",
        "\n",
        "    return similarity, intersection\n",
        "\n",
        "text1 = \"This is a sample sample text about is this legal sample issues.\"\n",
        "text2 = \"This text legal discusses legal and ethical This issues in legal computing.\"\n",
        "\n",
        "similarity, common_words = jaccard_similarity(text1, text2)\n",
        "\n",
        "print(f\"Similarity: {similarity:.2f}\")\n",
        "print(f\"Common words: {common_words}\")"
      ],
      "metadata": {
        "id": "DY8Haso0HHtC",
        "outputId": "4e97fd4b-9354-479e-beb9-90f492d89d60",
        "colab": {
          "base_uri": "https://localhost:8080/"
        }
      },
      "execution_count": null,
      "outputs": [
        {
          "output_type": "stream",
          "name": "stdout",
          "text": [
            "Similarity: 0.20\n",
            "Common words: {'legal', 'This', 'text'}\n"
          ]
        }
      ]
    },
    {
      "cell_type": "code",
      "source": [],
      "metadata": {
        "id": "cdzCps6jIaAL"
      },
      "execution_count": null,
      "outputs": []
    }
  ],
  "metadata": {
    "colab": {
      "provenance": [],
      "include_colab_link": true
    },
    "kernelspec": {
      "display_name": "Python 3",
      "name": "python3"
    }
  },
  "nbformat": 4,
  "nbformat_minor": 0
}