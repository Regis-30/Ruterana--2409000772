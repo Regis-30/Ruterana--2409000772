{
  "cells": [
    {
      "cell_type": "markdown",
      "metadata": {
        "id": "view-in-github",
        "colab_type": "text"
      },
      "source": [
        "<a href=\"https://colab.research.google.com/github/Regis-30/Ruterana-REGIS--2409000772/blob/main/Welcome_To_Colab.ipynb\" target=\"_parent\"><img src=\"https://colab.research.google.com/assets/colab-badge.svg\" alt=\"Open In Colab\"/></a>"
      ]
    },
    {
      "cell_type": "code",
      "source": [
        "!PIP INSTALL CRYPTOGRAPHY"
      ],
      "metadata": {
        "id": "t4kiTxw3VTPW",
        "outputId": "9154f1dd-12c5-4dd7-a0fe-b5dbdea43e8d",
        "colab": {
          "base_uri": "https://localhost:8080/"
        }
      },
      "execution_count": 3,
      "outputs": [
        {
          "output_type": "stream",
          "name": "stdout",
          "text": [
            "/bin/bash: line 1: PIP: command not found\n"
          ]
        }
      ]
    },
    {
      "cell_type": "code",
      "source": [
        "`import pandas as pd\n",
        "\n",
        "# Define phishing keywords\n",
        "phishing_keywords = [\"urgent\", \"password reset\", \"bank\", \"verify\", \"account suspended\"]\n",
        "#These are words commonly found in phishing emails.\n",
        "#The script will check if an email contains any of these words.\n",
        "\n",
        "# Load the dataset (uploaded file)\n",
        "emails = pd.read_csv(\"/content/emails.csv\")\n",
        "\n",
        "# Check if the 'content' column exists\n",
        "if 'content' in emails.columns:\n",
        "    # Apply phishing detection\n",
        "    emails[\"is_phishing\"] = emails[\"content\"].apply(\n",
        "        lambda x: any(keyword in str(x).lower() for keyword in phishing_keywords)\n",
        "    )\n",
        "\n",
        "\n",
        "    # Save the processed file\n",
        "    emails.to_csv(\"/content/analyzed_emails.csv\", index=False)\n",
        "    print(\"Phishing detection complete. ✅\")\n",
        "else:\n",
        "    print(\"Error: The 'content' column is missing from the dataset.\")"
      ],
      "metadata": {
        "id": "8-2z-HEnVW2Q"
      },
      "execution_count": null,
      "outputs": []
    }
  ],
  "metadata": {
    "colab": {
      "name": "Welcome To Colab",
      "toc_visible": true,
      "provenance": [],
      "include_colab_link": true
    },
    "kernelspec": {
      "display_name": "Python 3",
      "name": "python3"
    }
  },
  "nbformat": 4,
  "nbformat_minor": 0
}