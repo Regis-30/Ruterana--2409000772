{
  "cells": [
    {
      "cell_type": "markdown",
      "metadata": {
        "id": "view-in-github",
        "colab_type": "text"
      },
      "source": [
        "<a href=\"https://colab.research.google.com/github/Regis-30/Ruterana-REGIS--2409000772/blob/main/Welcome_To_Colab.ipynb\" target=\"_parent\"><img src=\"https://colab.research.google.com/assets/colab-badge.svg\" alt=\"Open In Colab\"/></a>"
      ]
    },
    {
      "cell_type": "code",
      "source": [
        "!pip install cryptography"
      ],
      "metadata": {
        "id": "xaf_b8alSSKl",
        "outputId": "a2f397c1-971b-470c-f888-948d227bbbfc",
        "colab": {
          "base_uri": "https://localhost:8080/"
        }
      },
      "execution_count": 3,
      "outputs": [
        {
          "output_type": "stream",
          "name": "stdout",
          "text": [
            "Requirement already satisfied: cryptography in /usr/local/lib/python3.11/dist-packages (43.0.3)\n",
            "Requirement already satisfied: cffi>=1.12 in /usr/local/lib/python3.11/dist-packages (from cryptography) (1.17.1)\n",
            "Requirement already satisfied: pycparser in /usr/local/lib/python3.11/dist-packages (from cffi>=1.12->cryptography) (2.22)\n"
          ]
        }
      ]
    },
    {
      "cell_type": "code",
      "source": [
        "import pandas as pd\n",
        "\n",
        "# Define phishing keywords\n",
        "phishing_keywords = [\"urgent\", \"password reset\", \"bank\", \"verify\", \"account suspended\"]\n",
        "\n",
        "# Load the dataset (uploaded file)\n",
        "try:\n",
        "    emails = pd.read_csv(\"/content/RUTERANA REGIS 2409000772.csv\")\n",
        "except FileNotFoundError:\n",
        "    print(\"Error: The file 'emails.csv' was not found. Please upload the file.\")\n",
        "    exit()  # Exit the script if the file is not found\n",
        "\n",
        "# Check if the 'content' column exists\n",
        "if 'content' in emails.columns:\n",
        "    # Apply phishing detection, handling potential missing values in 'content'\n",
        "    emails[\"is_phishing\"] = emails[\"content\"].apply(\n",
        "        lambda x: any(keyword in str(x).lower() for keyword in phishing_keywords) if isinstance(x, str) else False\n",
        "    )\n",
        "\n",
        "    # Save the processed file\n",
        "    emails.to_csv(\"/content/analyzed_emails.csv\", index=False)\n",
        "    print(\"Phishing detection complete. ✅\")\n",
        "else:\n",
        "    print(\"Error: The 'content' column is missing from the dataset.\")"
      ],
      "metadata": {
        "id": "GXzoc4jwSaQv"
      },
      "execution_count": null,
      "outputs": []
    }
  ],
  "metadata": {
    "colab": {
      "name": "Welcome To Colab",
      "provenance": [],
      "include_colab_link": true
    },
    "kernelspec": {
      "display_name": "Python 3",
      "name": "python3"
    }
  },
  "nbformat": 4,
  "nbformat_minor": 0
}