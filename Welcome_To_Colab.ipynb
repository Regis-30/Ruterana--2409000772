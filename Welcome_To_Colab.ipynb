{
  "cells": [
    {
      "cell_type": "markdown",
      "metadata": {
        "id": "view-in-github",
        "colab_type": "text"
      },
      "source": [
        "<a href=\"https://colab.research.google.com/github/Regis-30/Ruterana-REGIS--2409000772/blob/main/Welcome_To_Colab.ipynb\" target=\"_parent\"><img src=\"https://colab.research.google.com/assets/colab-badge.svg\" alt=\"Open In Colab\"/></a>"
      ]
    },
    {
      "cell_type": "code",
      "source": [
        "!pip install cryptography"
      ],
      "metadata": {
        "colab": {
          "base_uri": "https://localhost:8080/"
        },
        "id": "SDhKPw48BUQd",
        "outputId": "55f73f5d-51d0-4c89-e684-14045908cf4d"
      },
      "execution_count": 1,
      "outputs": [
        {
          "output_type": "stream",
          "name": "stdout",
          "text": [
            "Requirement already satisfied: cryptography in /usr/local/lib/python3.11/dist-packages (43.0.3)\n",
            "Requirement already satisfied: cffi>=1.12 in /usr/local/lib/python3.11/dist-packages (from cryptography) (1.17.1)\n",
            "Requirement already satisfied: pycparser in /usr/local/lib/python3.11/dist-packages (from cffi>=1.12->cryptography) (2.22)\n"
          ]
        }
      ]
    },
    {
      "cell_type": "code",
      "source": [
        "`import pandas as pd\n",
        "\n",
        "# Define phishing keywords\n",
        "phishing_keywords = [\"urgent\", \"password reset\", \"bank\", \"verify\", \"account suspended\"]\n",
        "#These are words commonly found in phishing emails.\n",
        "#The script will check if an email contains any of these words.\n",
        "\n",
        "# Load the dataset (uploaded file)\n",
        "emails = pd.read_csv(\"/content/emails.csv\")\n",
        "\n",
        "# Check if the 'content' column exists\n",
        "if 'content' in emails.columns:\n",
        "    # Apply phishing detection\n",
        "    emails[\"is_phishing\"] = emails[\"content\"].apply(\n",
        "        lambda x: any(keyword in str(x).lower() for keyword in phishing_keywords)\n",
        "    )\n",
        "\n",
        "\n",
        "    # Save the processed file\n",
        "    emails.to_csv(\"/content/analyzed_emails.csv\", index=False)\n",
        "    print(\"Phishing detection complete. ✅\")\n",
        "else:\n",
        "    print(\"Error: The 'content' column is missing from the dataset.\")"
      ],
      "metadata": {
        "id": "rsrTdlpVJku3"
      },
      "execution_count": null,
      "outputs": []
    }
  ],
  "metadata": {
    "colab": {
      "name": "Welcome To Colab",
      "provenance": [],
      "include_colab_link": true
    },
    "kernelspec": {
      "display_name": "Python 3",
      "name": "python3"
    }
  },
  "nbformat": 4,
  "nbformat_minor": 0
}